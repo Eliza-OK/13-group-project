{
 "cells": [
  {
   "cell_type": "code",
   "execution_count": 2,
   "metadata": {},
   "outputs": [],
   "source": [
    "import numpy\n",
    "import pandas as pd\n",
    "import xpress as xp\n"
   ]
  },
  {
   "cell_type": "markdown",
   "metadata": {},
   "source": [
    "## Data Exploration"
   ]
  },
  {
   "cell_type": "code",
   "execution_count": 4,
   "metadata": {},
   "outputs": [],
   "source": [
    "# read-data\n",
    "TransactionsInput = pd.read_excel(\"231013_Transactions_Input.xlsx\")"
   ]
  },
  {
   "cell_type": "code",
   "execution_count": 5,
   "metadata": {},
   "outputs": [],
   "source": [
    "FuardCases = pd.read_excel(\"231013_Fraud_Cases.xlsx\")\n",
    "CustomerBase = pd.read_excel(\"231013_Customer_Base.xlsx\")"
   ]
  },
  {
   "cell_type": "code",
   "execution_count": 6,
   "metadata": {},
   "outputs": [
    {
     "data": {
      "text/plain": [
       "347"
      ]
     },
     "execution_count": 6,
     "metadata": {},
     "output_type": "execute_result"
    }
   ],
   "source": [
    "TransactionsInput[\"description\"].nunique()"
   ]
  },
  {
   "cell_type": "code",
   "execution_count": 7,
   "metadata": {},
   "outputs": [
    {
     "data": {
      "text/html": [
       "<div>\n",
       "<style scoped>\n",
       "    .dataframe tbody tr th:only-of-type {\n",
       "        vertical-align: middle;\n",
       "    }\n",
       "\n",
       "    .dataframe tbody tr th {\n",
       "        vertical-align: top;\n",
       "    }\n",
       "\n",
       "    .dataframe thead th {\n",
       "        text-align: right;\n",
       "    }\n",
       "</style>\n",
       "<table border=\"1\" class=\"dataframe\">\n",
       "  <thead>\n",
       "    <tr style=\"text-align: right;\">\n",
       "      <th></th>\n",
       "      <th>transaction_id</th>\n",
       "      <th>description</th>\n",
       "      <th>Amount</th>\n",
       "      <th>category</th>\n",
       "      <th>date</th>\n",
       "      <th>month</th>\n",
       "      <th>customer_id</th>\n",
       "      <th>type</th>\n",
       "      <th>In_or_Out</th>\n",
       "      <th>bank_to</th>\n",
       "      <th>bank_from</th>\n",
       "      <th>transac_prob</th>\n",
       "      <th>description_prob</th>\n",
       "      <th>priority</th>\n",
       "    </tr>\n",
       "  </thead>\n",
       "  <tbody>\n",
       "    <tr>\n",
       "      <th>0</th>\n",
       "      <td>1</td>\n",
       "      <td>Salary Deposit - XYZ Corporation</td>\n",
       "      <td>11474.33021</td>\n",
       "      <td>Income</td>\n",
       "      <td>2023-10-01</td>\n",
       "      <td>October</td>\n",
       "      <td>17699</td>\n",
       "      <td>income</td>\n",
       "      <td>paid_in</td>\n",
       "      <td>bank_A</td>\n",
       "      <td>bank_A</td>\n",
       "      <td>NaN</td>\n",
       "      <td>NaN</td>\n",
       "      <td>3</td>\n",
       "    </tr>\n",
       "    <tr>\n",
       "      <th>1</th>\n",
       "      <td>2</td>\n",
       "      <td>Online Retailer - Electronics Purchase</td>\n",
       "      <td>199.99000</td>\n",
       "      <td>Online Shopping</td>\n",
       "      <td>2023-10-01</td>\n",
       "      <td>October</td>\n",
       "      <td>10298</td>\n",
       "      <td>spending</td>\n",
       "      <td>paid_out</td>\n",
       "      <td>bank_A</td>\n",
       "      <td>bank_E</td>\n",
       "      <td>0.78</td>\n",
       "      <td>0.25</td>\n",
       "      <td>3</td>\n",
       "    </tr>\n",
       "    <tr>\n",
       "      <th>2</th>\n",
       "      <td>3</td>\n",
       "      <td>Utilities Payment - Internet Service</td>\n",
       "      <td>60.00000</td>\n",
       "      <td>Utilities</td>\n",
       "      <td>2023-10-01</td>\n",
       "      <td>October</td>\n",
       "      <td>10298</td>\n",
       "      <td>spending</td>\n",
       "      <td>paid_out</td>\n",
       "      <td>bank_C</td>\n",
       "      <td>bank_E</td>\n",
       "      <td>0.30</td>\n",
       "      <td>0.22</td>\n",
       "      <td>1</td>\n",
       "    </tr>\n",
       "    <tr>\n",
       "      <th>3</th>\n",
       "      <td>4</td>\n",
       "      <td>Rent Payment</td>\n",
       "      <td>1500.00000</td>\n",
       "      <td>Housing</td>\n",
       "      <td>2023-10-01</td>\n",
       "      <td>October</td>\n",
       "      <td>14507</td>\n",
       "      <td>spending</td>\n",
       "      <td>paid_out</td>\n",
       "      <td>bank_D</td>\n",
       "      <td>bank_E</td>\n",
       "      <td>0.57</td>\n",
       "      <td>0.53</td>\n",
       "      <td>3</td>\n",
       "    </tr>\n",
       "    <tr>\n",
       "      <th>4</th>\n",
       "      <td>5</td>\n",
       "      <td>Paycheck Deposit - Company Name</td>\n",
       "      <td>10480.68449</td>\n",
       "      <td>Income</td>\n",
       "      <td>2023-10-01</td>\n",
       "      <td>October</td>\n",
       "      <td>14507</td>\n",
       "      <td>income</td>\n",
       "      <td>paid_in</td>\n",
       "      <td>bank_E</td>\n",
       "      <td>bank_D</td>\n",
       "      <td>NaN</td>\n",
       "      <td>NaN</td>\n",
       "      <td>3</td>\n",
       "    </tr>\n",
       "    <tr>\n",
       "      <th>...</th>\n",
       "      <td>...</td>\n",
       "      <td>...</td>\n",
       "      <td>...</td>\n",
       "      <td>...</td>\n",
       "      <td>...</td>\n",
       "      <td>...</td>\n",
       "      <td>...</td>\n",
       "      <td>...</td>\n",
       "      <td>...</td>\n",
       "      <td>...</td>\n",
       "      <td>...</td>\n",
       "      <td>...</td>\n",
       "      <td>...</td>\n",
       "      <td>...</td>\n",
       "    </tr>\n",
       "    <tr>\n",
       "      <th>315177</th>\n",
       "      <td>315178</td>\n",
       "      <td>Grocery Shopping - Super Value Mart</td>\n",
       "      <td>55.25000</td>\n",
       "      <td>Groceries</td>\n",
       "      <td>2024-07-31</td>\n",
       "      <td>July</td>\n",
       "      <td>15026</td>\n",
       "      <td>spending</td>\n",
       "      <td>paid_out</td>\n",
       "      <td>bank_C</td>\n",
       "      <td>bank_B</td>\n",
       "      <td>0.42</td>\n",
       "      <td>0.17</td>\n",
       "      <td>1</td>\n",
       "    </tr>\n",
       "    <tr>\n",
       "      <th>315178</th>\n",
       "      <td>315179</td>\n",
       "      <td>JCPenney - Discount Fashion</td>\n",
       "      <td>40.00000</td>\n",
       "      <td>Shopping</td>\n",
       "      <td>2024-07-31</td>\n",
       "      <td>July</td>\n",
       "      <td>11908</td>\n",
       "      <td>spending</td>\n",
       "      <td>paid_out</td>\n",
       "      <td>bank_D</td>\n",
       "      <td>bank_A</td>\n",
       "      <td>0.36</td>\n",
       "      <td>0.36</td>\n",
       "      <td>1</td>\n",
       "    </tr>\n",
       "    <tr>\n",
       "      <th>315179</th>\n",
       "      <td>315180</td>\n",
       "      <td>Gas Station - Fuel Purchase</td>\n",
       "      <td>40.45000</td>\n",
       "      <td>Transportation</td>\n",
       "      <td>2024-07-31</td>\n",
       "      <td>July</td>\n",
       "      <td>10291</td>\n",
       "      <td>spending</td>\n",
       "      <td>paid_out</td>\n",
       "      <td>bank_D</td>\n",
       "      <td>bank_D</td>\n",
       "      <td>0.28</td>\n",
       "      <td>0.64</td>\n",
       "      <td>1</td>\n",
       "    </tr>\n",
       "    <tr>\n",
       "      <th>315180</th>\n",
       "      <td>315181</td>\n",
       "      <td>ATM Withdrawal - PQR Bank ATM</td>\n",
       "      <td>80.00000</td>\n",
       "      <td>Cash Withdrawal</td>\n",
       "      <td>2024-07-31</td>\n",
       "      <td>July</td>\n",
       "      <td>18543</td>\n",
       "      <td>spending</td>\n",
       "      <td>paid_out</td>\n",
       "      <td>NaN</td>\n",
       "      <td>bank_A</td>\n",
       "      <td>0.24</td>\n",
       "      <td>0.23</td>\n",
       "      <td>2</td>\n",
       "    </tr>\n",
       "    <tr>\n",
       "      <th>315181</th>\n",
       "      <td>315182</td>\n",
       "      <td>Gas Station - Fuel Purchase</td>\n",
       "      <td>40.45000</td>\n",
       "      <td>Transportation</td>\n",
       "      <td>2024-07-31</td>\n",
       "      <td>July</td>\n",
       "      <td>13560</td>\n",
       "      <td>spending</td>\n",
       "      <td>paid_out</td>\n",
       "      <td>bank_A</td>\n",
       "      <td>bank_D</td>\n",
       "      <td>0.16</td>\n",
       "      <td>0.54</td>\n",
       "      <td>1</td>\n",
       "    </tr>\n",
       "  </tbody>\n",
       "</table>\n",
       "<p>315182 rows × 14 columns</p>\n",
       "</div>"
      ],
      "text/plain": [
       "        transaction_id                             description       Amount  \\\n",
       "0                    1        Salary Deposit - XYZ Corporation  11474.33021   \n",
       "1                    2  Online Retailer - Electronics Purchase    199.99000   \n",
       "2                    3    Utilities Payment - Internet Service     60.00000   \n",
       "3                    4                            Rent Payment   1500.00000   \n",
       "4                    5         Paycheck Deposit - Company Name  10480.68449   \n",
       "...                ...                                     ...          ...   \n",
       "315177          315178     Grocery Shopping - Super Value Mart     55.25000   \n",
       "315178          315179             JCPenney - Discount Fashion     40.00000   \n",
       "315179          315180             Gas Station - Fuel Purchase     40.45000   \n",
       "315180          315181           ATM Withdrawal - PQR Bank ATM     80.00000   \n",
       "315181          315182             Gas Station - Fuel Purchase     40.45000   \n",
       "\n",
       "               category       date    month  customer_id      type In_or_Out  \\\n",
       "0                Income 2023-10-01  October        17699    income   paid_in   \n",
       "1       Online Shopping 2023-10-01  October        10298  spending  paid_out   \n",
       "2             Utilities 2023-10-01  October        10298  spending  paid_out   \n",
       "3               Housing 2023-10-01  October        14507  spending  paid_out   \n",
       "4                Income 2023-10-01  October        14507    income   paid_in   \n",
       "...                 ...        ...      ...          ...       ...       ...   \n",
       "315177        Groceries 2024-07-31     July        15026  spending  paid_out   \n",
       "315178         Shopping 2024-07-31     July        11908  spending  paid_out   \n",
       "315179   Transportation 2024-07-31     July        10291  spending  paid_out   \n",
       "315180  Cash Withdrawal 2024-07-31     July        18543  spending  paid_out   \n",
       "315181   Transportation 2024-07-31     July        13560  spending  paid_out   \n",
       "\n",
       "       bank_to bank_from  transac_prob  description_prob  priority  \n",
       "0       bank_A    bank_A           NaN               NaN         3  \n",
       "1       bank_A    bank_E          0.78              0.25         3  \n",
       "2       bank_C    bank_E          0.30              0.22         1  \n",
       "3       bank_D    bank_E          0.57              0.53         3  \n",
       "4       bank_E    bank_D           NaN               NaN         3  \n",
       "...        ...       ...           ...               ...       ...  \n",
       "315177  bank_C    bank_B          0.42              0.17         1  \n",
       "315178  bank_D    bank_A          0.36              0.36         1  \n",
       "315179  bank_D    bank_D          0.28              0.64         1  \n",
       "315180     NaN    bank_A          0.24              0.23         2  \n",
       "315181  bank_A    bank_D          0.16              0.54         1  \n",
       "\n",
       "[315182 rows x 14 columns]"
      ]
     },
     "execution_count": 7,
     "metadata": {},
     "output_type": "execute_result"
    }
   ],
   "source": [
    "TransactionsInput"
   ]
  },
  {
   "cell_type": "code",
   "execution_count": 8,
   "metadata": {},
   "outputs": [],
   "source": [
    "TransactionsInput_clean = TransactionsInput.drop('description_prob', axis=1)"
   ]
  },
  {
   "cell_type": "code",
   "execution_count": null,
   "metadata": {},
   "outputs": [],
   "source": [
    "# TransactionsInput_clean = TransactionsInput_clean[[\"In_or_Out\"] == \"paid_in\"]"
   ]
  },
  {
   "cell_type": "markdown",
   "metadata": {},
   "source": [
    "## Create a problem with xpress module"
   ]
  },
  {
   "cell_type": "markdown",
   "metadata": {},
   "source": [
    "#### The basic model in a single day. (Ignore the learn model)"
   ]
  },
  {
   "cell_type": "code",
   "execution_count": 19,
   "metadata": {},
   "outputs": [],
   "source": [
    "# just use for testing\n",
    "customer_num = 10"
   ]
  },
  {
   "cell_type": "code",
   "execution_count": 27,
   "metadata": {},
   "outputs": [],
   "source": [
    "# data (parameeters) needed in this problem\n",
    "# NOTE THAT: very strightforward way in this case as this is the idea stage.\n",
    "# still need to abstract the single instead of a whole data set\n",
    "x_length = len(TransactionsInput_clean[\"transaction_id\"])\n",
    "y_length = len(TransactionsInput_clean[\"transaction_id\"])\n",
    "Prob_transac = TransactionsInput_clean[\"transac_prob\"]\n",
    "# Prob_description = TransactionsInput_clean[\"description_prob\"]\n",
    "Prob_customer = CustomerBase[\"customer_prob\"]\n",
    "\n",
    "\n",
    "Bank = [\"A\", \"B\", \"C\", \"D\", \"E\"]\n",
    "Investigarion_team = [8, 12, 10, 10, 10]\n",
    "\n",
    "Priority = [1,2,3,4]\n",
    "Investigation_time = [0.25, 0.5, 1, 2]\n",
    "Investigation_hire_exter = [40, 60, 100, 150]\n",
    "Investigation_success = [0.5, 0.6, 0.7, 0.8]\n"
   ]
  },
  {
   "cell_type": "code",
   "execution_count": 13,
   "metadata": {},
   "outputs": [
    {
     "name": "stdout",
     "output_type": "stream",
     "text": [
      "Using the license file found in your Xpress installation. If you want to use this license and no longer want to see this message, use the following code before using the xpress module:\n",
      "  xpress.init('D:/APP/Xpress/bin/xpauth.xpr')\n"
     ]
    }
   ],
   "source": [
    "# Create a problem called transaction\n",
    "\n",
    "prob = xp.problem(name='transaction') "
   ]
  },
  {
   "cell_type": "code",
   "execution_count": 34,
   "metadata": {},
   "outputs": [
    {
     "name": "stdout",
     "output_type": "stream",
     "text": [
      "?1030 Error: Duplicate column names are not allowed - column 1 would have same name as column 2\n"
     ]
    },
    {
     "ename": "SolverError",
     "evalue": "?1030 Error: Duplicate column names are not allowed - column 1 would have same name as column 2",
     "output_type": "error",
     "traceback": [
      "\u001b[1;31m---------------------------------------------------------------------------\u001b[0m",
      "\u001b[1;31mSolverError\u001b[0m                               Traceback (most recent call last)",
      "\u001b[1;32mf:\\ED-semaster1\\MMCS\\assesment\\project\\13-group-project\\project1.0.ipynb Cell 14\u001b[0m line \u001b[0;36m8\n\u001b[0;32m      <a href='vscode-notebook-cell:/f%3A/ED-semaster1/MMCS/assesment/project/13-group-project/project1.0.ipynb#X16sZmlsZQ%3D%3D?line=3'>4</a>\u001b[0m y \u001b[39m=\u001b[39m xp\u001b[39m.\u001b[39mvar(vartype\u001b[39m=\u001b[39mxp\u001b[39m.\u001b[39mbinary, name\u001b[39m=\u001b[39m\u001b[39m\"\u001b[39m\u001b[39my\u001b[39m\u001b[39m\"\u001b[39m) \u001b[39m#\u001b[39;00m\n\u001b[0;32m      <a href='vscode-notebook-cell:/f%3A/ED-semaster1/MMCS/assesment/project/13-group-project/project1.0.ipynb#X16sZmlsZQ%3D%3D?line=5'>6</a>\u001b[0m \u001b[39m# Add the variables to the problem\u001b[39;00m\n\u001b[1;32m----> <a href='vscode-notebook-cell:/f%3A/ED-semaster1/MMCS/assesment/project/13-group-project/project1.0.ipynb#X16sZmlsZQ%3D%3D?line=7'>8</a>\u001b[0m prob\u001b[39m.\u001b[39;49maddVariable(x,f,y)\n",
      "\u001b[1;31mSolverError\u001b[0m: ?1030 Error: Duplicate column names are not allowed - column 1 would have same name as column 2"
     ]
    }
   ],
   "source": [
    "# Create the x variables\n",
    "x = xp.var(vartype=xp.binary, name=\"x\") # if we want to investigate the transaction i\n",
    "f = xp.var(vartype=xp.binary, name=\"f\") # if the in vestigation label transaction i is fraud\n",
    "y = xp.var(vartype=xp.binary, name=\"y\") #\n",
    "\n",
    "# Add the variables to the problem\n",
    "\n",
    "prob.addVariable(x,f,y)"
   ]
  },
  {
   "cell_type": "code",
   "execution_count": 15,
   "metadata": {},
   "outputs": [],
   "source": [
    "# add objective value\n",
    "# expect value on investigation cost\n",
    "prob.addObjective(i for i in x_length x[i]*)"
   ]
  },
  {
   "cell_type": "code",
   "execution_count": 16,
   "metadata": {},
   "outputs": [],
   "source": [
    "# add constraints\n",
    "prob.addConstraint()"
   ]
  },
  {
   "cell_type": "code",
   "execution_count": null,
   "metadata": {},
   "outputs": [],
   "source": []
  }
 ],
 "metadata": {
  "kernelspec": {
   "display_name": "xpress",
   "language": "python",
   "name": "python3"
  },
  "language_info": {
   "codemirror_mode": {
    "name": "ipython",
    "version": 3
   },
   "file_extension": ".py",
   "mimetype": "text/x-python",
   "name": "python",
   "nbconvert_exporter": "python",
   "pygments_lexer": "ipython3",
   "version": "3.9.18"
  }
 },
 "nbformat": 4,
 "nbformat_minor": 2
}
